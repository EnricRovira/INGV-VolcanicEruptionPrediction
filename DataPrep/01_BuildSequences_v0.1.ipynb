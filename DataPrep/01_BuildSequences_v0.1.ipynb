{
 "cells": [
  {
   "cell_type": "code",
   "execution_count": 1,
   "metadata": {
    "_cell_guid": "b1076dfc-b9ad-4769-8c92-a6c4dae69d19",
    "_uuid": "8f2839f25d086af736a60e9eeb907d3b93b6e0e5"
   },
   "outputs": [],
   "source": [
    "#############################################################\n",
    "# 1. Libraries\n",
    "\n",
    "import pandas as pd\n",
    "import numpy as np \n",
    "import os\n",
    "import glob\n",
    "from tqdm import tqdm\n",
    "\n",
    "import matplotlib.pyplot as plt\n",
    "import gc\n",
    "\n",
    "#############################################################"
   ]
  },
  {
   "cell_type": "code",
   "execution_count": 2,
   "metadata": {
    "_cell_guid": "79c7e3d0-c299-4dcb-8224-4455121ee9b0",
    "_uuid": "d629ff2d2480ee46fbb7e2d37f6b5fab8052498a"
   },
   "outputs": [],
   "source": [
    "#############################################################\n",
    "# 2. Paths & Global Variables\n",
    "\n",
    "## 2.1 Paths\n",
    "\n",
    "path = '../01_Data/'\n",
    "\n",
    "df_train = pd.read_csv(path + 'train.csv')\n",
    "df_sample_submission = pd.read_csv(path + 'sample_submission.csv') \n",
    "\n",
    "train_paths = glob.glob(path + 'train/*')\n",
    "test_paths = glob.glob(path + 'test/*')\n",
    "\n",
    "unique_segments_id_train = set(df_train['segment_id'])\n",
    "unique_segments_id_test = set(df_sample_submission['segment_id'])\n",
    "\n",
    "dict_unique_segments_id = { v : k for k, v in enumerate(unique_segments_id_train)}\n",
    "dict_unique_segments_id_inv = { k : v for k, v in enumerate(unique_segments_id_test)}\n",
    "\n",
    "## 2.2 Global Variables\n",
    "\n",
    "SEQ_LENGTH = 60_001\n",
    "\n",
    "#############################################################"
   ]
  },
  {
   "cell_type": "code",
   "execution_count": 3,
   "metadata": {},
   "outputs": [],
   "source": [
    "#############################################################\n",
    "# 3. Global Functions\n",
    "\n",
    "def buildSequences(df, dict_segment_paths, path_output, mask_value=-1.0):\n",
    "    for i, segment in enumerate(tqdm(dict_segment_paths, total=len(dict_segment_paths), position=0)):\n",
    "        x = np.zeros((1, SEQ_LENGTH, 10))\n",
    "        segment_path = dict_segment_paths[segment]\n",
    "        values = pd.read_csv(segment_path).fillna(mask_value).values[-SEQ_LENGTH:]\n",
    "        np.save(path_output + str(segment) + '.npy', values)\n",
    "        \n",
    "    return x\n",
    "\n",
    "def scale(x, mean_, std_):\n",
    "    return (x - mean_) / std_\n",
    "\n",
    "\n",
    "def unscale(x, mean_, std_):\n",
    "    return (x * std_) + mean_\n",
    "\n",
    "#############################################################"
   ]
  },
  {
   "cell_type": "code",
   "execution_count": 4,
   "metadata": {},
   "outputs": [],
   "source": [
    "#############################################################\n",
    "# 4. Preprocess\n",
    "\n",
    "dict_segment_paths_train = {\n",
    "    segment : path + 'train/' + str(segment) + '.csv' for segment in unique_segments_id_train\n",
    "}\n",
    "\n",
    "dict_segment_paths_test = {\n",
    "    segment : path + 'test/' + str(segment) + '.csv' for segment in unique_segments_id_test\n",
    "}\n",
    "\n",
    "#############################################################"
   ]
  },
  {
   "cell_type": "code",
   "execution_count": 6,
   "metadata": {},
   "outputs": [
    {
     "name": "stderr",
     "output_type": "stream",
     "text": [
      "100%|██████████████████████████████████████████████████████████████████████████████| 4431/4431 [04:52<00:00, 15.14it/s]\n",
      "100%|██████████████████████████████████████████████████████████████████████████████| 4520/4520 [04:41<00:00, 16.06it/s]\n"
     ]
    }
   ],
   "source": [
    "#############################################################\n",
    "# 5. Build Sequences\n",
    "\n",
    "save=True\n",
    "\n",
    "mask_value = 0.0\n",
    "\n",
    "X_train = buildSequences(df_train, dict_segment_paths=dict_segment_paths_train, \n",
    "                         path_output=path + '01_GeneratedSequences/train/',\n",
    "                         mask_value=mask_value)\n",
    "\n",
    "X_test = buildSequences(df=None, dict_segment_paths=dict_segment_paths_test, \n",
    "                        path_output=path + '01_GeneratedSequences/test/',\n",
    "                        mask_value=mask_value) \n",
    "    \n",
    "#############################################################"
   ]
  }
 ],
 "metadata": {
  "kernelspec": {
   "display_name": "Python 3",
   "language": "python",
   "name": "python3"
  },
  "language_info": {
   "codemirror_mode": {
    "name": "ipython",
    "version": 3
   },
   "file_extension": ".py",
   "mimetype": "text/x-python",
   "name": "python",
   "nbconvert_exporter": "python",
   "pygments_lexer": "ipython3",
   "version": "3.7.6"
  }
 },
 "nbformat": 4,
 "nbformat_minor": 4
}
