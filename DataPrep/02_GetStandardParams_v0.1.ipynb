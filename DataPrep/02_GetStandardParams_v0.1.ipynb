{
 "cells": [
  {
   "cell_type": "code",
   "execution_count": 1,
   "metadata": {
    "_cell_guid": "b1076dfc-b9ad-4769-8c92-a6c4dae69d19",
    "_uuid": "8f2839f25d086af736a60e9eeb907d3b93b6e0e5"
   },
   "outputs": [],
   "source": [
    "#############################################################\n",
    "# 1. Libraries\n",
    "\n",
    "import pandas as pd\n",
    "import numpy as np \n",
    "import os\n",
    "import glob\n",
    "from tqdm import tqdm\n",
    "from sklearn.model_selection import KFold, GroupKFold, StratifiedKFold\n",
    "# import tensorflow as tf\n",
    "# tf.keras.backend.clear_session()\n",
    "\n",
    "# physical_devices = tf.config.list_physical_devices('GPU')\n",
    "\n",
    "# try:\n",
    "#     tf.config.experimental.set_memory_growth(physical_devices[0], True)\n",
    "# except:\n",
    "#     print('Invalid device or cannot modify virtual devices once initialized.')\n",
    "\n",
    "# from tensorflow.keras import models, layers, regularizers, metrics, losses, optimizers\n",
    "import pywt\n",
    "import matplotlib.pyplot as plt\n",
    "import gc\n",
    "\n",
    "#############################################################"
   ]
  },
  {
   "cell_type": "code",
   "execution_count": 2,
   "metadata": {
    "_cell_guid": "79c7e3d0-c299-4dcb-8224-4455121ee9b0",
    "_uuid": "d629ff2d2480ee46fbb7e2d37f6b5fab8052498a"
   },
   "outputs": [],
   "source": [
    "#############################################################\n",
    "# 2. Paths & Global Variables\n",
    "\n",
    "## 2.1 Paths\n",
    "\n",
    "path = '../01_Data/'\n",
    "path_sequences = path + '01_GeneratedSequences/'\n",
    "\n",
    "df_train = pd.read_csv(path + 'train.csv')\n",
    "df_sample_submission = pd.read_csv(path + 'sample_submission.csv') \n",
    "\n",
    "train_paths = glob.glob(path + 'train/*')\n",
    "test_paths = glob.glob(path + 'test/*')\n",
    "\n",
    "unique_segments_id_train = set(df_train['segment_id'])\n",
    "unique_segments_id_test = set(df_sample_submission['segment_id'])\n",
    "\n",
    "dict_unique_segments_train_id = { v : k for k, v in enumerate(unique_segments_id_train)}\n",
    "dict_unique_segments_train_id_inv = { k : v for k, v in enumerate(unique_segments_id_train)}\n",
    "\n",
    "## 2.2 Global Variables\n",
    "\n",
    "SEQ_LENGTH = 60_001\n",
    "\n",
    "#############################################################"
   ]
  },
  {
   "cell_type": "code",
   "execution_count": 3,
   "metadata": {},
   "outputs": [],
   "source": [
    "#############################################################\n",
    "# 3. GLobal Functions\n",
    "\n",
    "\n",
    "def buildSequences(dict_segment_paths_all, mask_value=-1.0, s=0):\n",
    "    X = np.zeros((len(dict_segment_paths_all), SEQ_LENGTH, 1))\n",
    "    for i, segment in enumerate(tqdm(dict_segment_paths_all, total=len(dict_segment_paths_all), position=0)):\n",
    "        segment_path = dict_segment_paths_all[segment]\n",
    "#     X = np.load(dict_segment_paths_all, allow_pickle=True)[-SEQ_LENGTH:]\n",
    "        values = np.load(segment_path, allow_pickle=True)[-SEQ_LENGTH:, sensor]\n",
    "        X[i] = np.expand_dims(values, -1)\n",
    "    return X\n",
    "\n",
    "\n",
    "#############################################################"
   ]
  },
  {
   "cell_type": "code",
   "execution_count": 4,
   "metadata": {},
   "outputs": [],
   "source": [
    "#############################################################\n",
    "# 4. Preprocess\n",
    "\n",
    "dict_segment_paths_train = {\n",
    "    segment : path + 'train/' + str(segment) + '.csv' for segment in unique_segments_id_train\n",
    "}\n",
    "\n",
    "dict_segment_paths_test = {\n",
    "    segment : path + 'test/' + str(segment) + '.csv' for segment in unique_segments_id_test\n",
    "}\n",
    "\n",
    "dict_segments_sequences_paths_train = {\n",
    "    segment : path_sequences + 'train/' + str(segment) + '.npy' for segment in unique_segments_id_train\n",
    "}\n",
    "\n",
    "dict_segments_sequences_paths_test = {\n",
    "    segment : path_sequences + 'test/' + str(segment) + '.npy' for segment in unique_segments_id_test\n",
    "}\n",
    "\n",
    "\n",
    "#############################################################"
   ]
  },
  {
   "cell_type": "code",
   "execution_count": 5,
   "metadata": {},
   "outputs": [],
   "source": [
    "def buildSequences(dict_segment_paths, mask_value=-1.0, s=0):\n",
    "    X = np.zeros((len(dict_segment_paths), SEQ_LENGTH, 1))\n",
    "    for i, segment in enumerate(tqdm(dict_segment_paths, total=len(dict_segment_paths), position=0)):\n",
    "        segment_path = dict_segment_paths[segment]\n",
    "        values = np.load(segment_path)[:, s]\n",
    "        X[i] = np.expand_dims(values, -1)\n",
    "    return X"
   ]
  },
  {
   "cell_type": "code",
   "execution_count": 6,
   "metadata": {
    "scrolled": true
   },
   "outputs": [
    {
     "name": "stderr",
     "output_type": "stream",
     "text": [
      "100%|██████████████████████████████████████████████████████████████████████████████| 8951/8951 [02:15<00:00, 65.94it/s]\n",
      "100%|██████████████████████████████████████████████████████████████████████████████| 8951/8951 [01:53<00:00, 78.60it/s]\n",
      "100%|██████████████████████████████████████████████████████████████████████████████| 8951/8951 [01:53<00:00, 79.16it/s]\n",
      "100%|██████████████████████████████████████████████████████████████████████████████| 8951/8951 [01:53<00:00, 79.20it/s]\n",
      "100%|██████████████████████████████████████████████████████████████████████████████| 8951/8951 [01:52<00:00, 79.31it/s]\n",
      "100%|██████████████████████████████████████████████████████████████████████████████| 8951/8951 [01:52<00:00, 79.46it/s]\n",
      "100%|██████████████████████████████████████████████████████████████████████████████| 8951/8951 [01:52<00:00, 79.30it/s]\n",
      "100%|██████████████████████████████████████████████████████████████████████████████| 8951/8951 [01:53<00:00, 78.65it/s]\n",
      "100%|██████████████████████████████████████████████████████████████████████████████| 8951/8951 [01:53<00:00, 78.99it/s]\n",
      "100%|██████████████████████████████████████████████████████████████████████████████| 8951/8951 [01:53<00:00, 79.02it/s]\n"
     ]
    }
   ],
   "source": [
    "#############################################################\n",
    "# 5. Build Sequences\n",
    "\n",
    "mask_value = 0.0\n",
    "dict_segment_paths_all = {**dict_segments_sequences_paths_train , **dict_segments_sequences_paths_test}\n",
    "\n",
    "dict_means_1, dict_stds_1 = {}, {}\n",
    "dict_means_2, dict_stds_2 = {}, {}\n",
    "\n",
    "for sensor in range(10):\n",
    "    X_sensor = buildSequences(dict_segment_paths_all, mask_value=mask_value, s=sensor)\n",
    "    dict_means_1[sensor] = np.mean(X_sensor)\n",
    "    dict_stds_1[sensor] = np.std(X_sensor)\n",
    "    dict_means_2[sensor] = X_sensor[:, :, 0][np.where(X_sensor[:, :, 0]!=mask_value)].mean()\n",
    "    dict_stds_2[sensor] = X_sensor[:, :, 0][np.where(X_sensor[:, :, 0]!=mask_value)].std()\n",
    "        \n",
    "#############################################################"
   ]
  },
  {
   "cell_type": "code",
   "execution_count": 8,
   "metadata": {},
   "outputs": [
    {
     "name": "stdout",
     "output_type": "stream",
     "text": [
      "{0: 0.09421943291597953, 1: 0.9208114415834104, 2: -0.026617075839858038, 3: 0.09724443370400684, 4: 1.704695380910225, 5: -0.1180321202370159, 6: 0.7667902421713446, 7: 0.7804286101804458, 8: -0.2075797991904395, 9: 0.014516944212624944} {0: 1820.6211174856987, 1: 1931.0901612736805, 2: 1738.1671740163413, 3: 1669.8837574619292, 4: 568.5221048211192, 5: 1848.4917466767877, 6: 1623.353060255481, 7: 1618.2714709240895, 8: 1590.9403316558762, 9: 1906.41447528788}\n",
      "****************************************************************************************************\n",
      "{0: 0.0992026042612393, 1: 1.2060617571250518, 2: -0.02966338531178954, 3: 0.09754622823302604, 4: 2.32806892426326, 5: -0.11826701439654377, 6: 0.7763418428446927, 7: 0.8519833627444088, 8: -0.23542573879948414, 9: 0.01773786504093307} {0: 1868.1462371697446, 1: 2210.049269605032, 2: 1834.9394142025242, 3: 1672.472961594481, 4: 664.3870611243652, 5: 1850.3301619462713, 6: 1633.4324975266845, 7: 1690.8315356528867, 8: 1694.2922271635766, 9: 2107.3195494770057}\n",
      "****************************************************************************************************\n"
     ]
    }
   ],
   "source": [
    "print(dict_means_1, dict_stds_1)\n",
    "print('*****'*20)\n",
    "print(dict_means_2, dict_stds_2)\n",
    "print('*****'*20)"
   ]
  },
  {
   "cell_type": "code",
   "execution_count": null,
   "metadata": {},
   "outputs": [],
   "source": [
    "# 1. Get stats for each segments and later mean\n",
    "\n",
    "# dict_means = {0: -0.525764, 1: 1.10702551, 2: -1.18589638, 3: -0.11519057,  4:2.83976518,\n",
    "#                 5: 0.13952936, 6: -0.15218268, 7: -0.00655127, 8: -0.1010594 , 9: -0.32835738}\n",
    "\n",
    "# dict_stds = {0: 651.76880839, 1: 977.6527808, 2: 589.45645994 , 3: 648.11128631 , 4: 250.97889182,\n",
    "#              5: 817.92460032, 6: 528.61988925 , 7: 550.02363897 , 8: 655.24171728, 9:1057.76947439}\n",
    "\n"
   ]
  },
  {
   "cell_type": "markdown",
   "metadata": {},
   "source": [
    "---"
   ]
  }
 ],
 "metadata": {
  "kernelspec": {
   "display_name": "Python 3",
   "language": "python",
   "name": "python3"
  },
  "language_info": {
   "codemirror_mode": {
    "name": "ipython",
    "version": 3
   },
   "file_extension": ".py",
   "mimetype": "text/x-python",
   "name": "python",
   "nbconvert_exporter": "python",
   "pygments_lexer": "ipython3",
   "version": "3.7.6"
  }
 },
 "nbformat": 4,
 "nbformat_minor": 4
}
